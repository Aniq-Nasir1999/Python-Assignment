{
 "cells": [
  {
   "cell_type": "code",
   "execution_count": 4,
   "metadata": {},
   "outputs": [
    {
     "name": "stdout",
     "output_type": "stream",
     "text": [
      "Enter Any Number46\n",
      "Enter Any Number93\n",
      "Enter Operator*\n",
      "4278 answer\n"
     ]
    }
   ],
   "source": [
    "Number1 = int(input(\"Enter Any Number\"))\n",
    "Number2 = int(input(\"Enter Any Number\"))\n",
    "Operator = input(\"Enter Operator\")\n",
    "if Operator == '+':\n",
    "    Calc = Number1 + Number2\n",
    "    print(Calc)\n",
    "elif Operator == '-':\n",
    "    Calc = Number1 - Number2\n",
    "    print(Calc,'answer')\n",
    "elif Operator == '+':\n",
    "    Calc = Number1 + Number2\n",
    "    print(Calc,'answer')\n",
    "elif Operator == '*':\n",
    "    Calc = Number1 * Number2\n",
    "    print(Calc,'answer')\n",
    "elif Operator == '/':\n",
    "    Calc = Number1 / Number2\n",
    "    print(Calc,'answer')\n",
    "else:\n",
    "    print(\"Enter Correct Operator\")"
   ]
  },
  {
   "cell_type": "code",
   "execution_count": 7,
   "metadata": {},
   "outputs": [
    {
     "name": "stdout",
     "output_type": "stream",
     "text": [
      "Numeric value found: 34\n",
      "Numeric value found: 1.321\n",
      "Numeric value found: 436\n"
     ]
    }
   ],
   "source": [
    "the_list = [34,\"Hellow\",1.321,436,'K']\n",
    "for num in the_list:\n",
    "    if type(num) == int or type(num)==float:\n",
    "        print(\"Numeric value found:\",num)"
   ]
  },
  {
   "cell_type": "code",
   "execution_count": 8,
   "metadata": {},
   "outputs": [
    {
     "name": "stdout",
     "output_type": "stream",
     "text": [
      "{1: 'Aniq', 2: 'Saood', 3: 'Hashir'}\n",
      "{1: 'Aniq', 2: 'Saood', 3: 'Hashir', 4: 'Nasir'}\n"
     ]
    }
   ],
   "source": [
    "dictionary = {\n",
    "    1:\"Aniq\",\n",
    "    2:\"Saood\",\n",
    "    3:\"Hashir\"\n",
    "    \n",
    "}\n",
    "print(dictionary)\n",
    "dictionary[4] = \"Nasir\"\n",
    "print(dictionary)"
   ]
  },
  {
   "cell_type": "code",
   "execution_count": 15,
   "metadata": {},
   "outputs": [
    {
     "name": "stdout",
     "output_type": "stream",
     "text": [
      "8\n",
      "20.4\n"
     ]
    }
   ],
   "source": [
    "ans = 0\n",
    "dictionary = {\n",
    "    1:\"Aniq\",\n",
    "    2:\"Saood\",\n",
    "    3:\"Hashir\",\n",
    "    4: 8,\n",
    "    5: 12.4\n",
    "}\n",
    "for num in dictionary.values():\n",
    "    if type(num) == int or type(num)== float:\n",
    "        ans = ans + num\n",
    "        print(ans)"
   ]
  },
  {
   "cell_type": "code",
   "execution_count": 17,
   "metadata": {},
   "outputs": [
    {
     "name": "stdout",
     "output_type": "stream",
     "text": [
      "['Aniq', 34, 55, 34, 'Aniq', 55]\n"
     ]
    }
   ],
   "source": [
    "element = [\"Aniq\",34,55,34,23,664,44,\"Saood\",\"Aniq\",55]\n",
    "element_1 =[]\n",
    "for more in element:\n",
    "    if element.count(more)>1:\n",
    "        element_1.append(more)\n",
    "print(element_1)"
   ]
  },
  {
   "cell_type": "code",
   "execution_count": 25,
   "metadata": {},
   "outputs": [
    {
     "name": "stdout",
     "output_type": "stream",
     "text": [
      "No key Exist\n",
      "No key Exist\n",
      "No key Exist\n",
      "Already Exist\n",
      "No key Exist\n"
     ]
    }
   ],
   "source": [
    "dict ={\n",
    "    1: 100,\n",
    "    2: 99.99,\n",
    "    3: \"Aniq\",\n",
    "    4: \"Saood\"\n",
    "}\n",
    "key = 4\n",
    "\n",
    "for k in dictionary.keys():\n",
    "    if k == key:\n",
    "        print(\"Already Exist\")\n",
    "    else:\n",
    "        print(\"No key Exist\")"
   ]
  },
  {
   "cell_type": "code",
   "execution_count": null,
   "metadata": {},
   "outputs": [],
   "source": []
  }
 ],
 "metadata": {
  "kernelspec": {
   "display_name": "Python 3",
   "language": "python",
   "name": "python3"
  },
  "language_info": {
   "codemirror_mode": {
    "name": "ipython",
    "version": 3
   },
   "file_extension": ".py",
   "mimetype": "text/x-python",
   "name": "python",
   "nbconvert_exporter": "python",
   "pygments_lexer": "ipython3",
   "version": "3.7.4"
  }
 },
 "nbformat": 4,
 "nbformat_minor": 2
}
