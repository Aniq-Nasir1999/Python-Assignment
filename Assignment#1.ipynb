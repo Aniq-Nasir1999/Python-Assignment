{
 "cells": [
  {
   "cell_type": "code",
   "execution_count": 1,
   "metadata": {},
   "outputs": [
    {
     "name": "stdout",
     "output_type": "stream",
     "text": [
      "Twinkle Twinkle Little Star,\n",
      "\t How I wonder up you are!\n",
      "\t\t Up above the world so high,\n",
      "\t\t Lika a diamond in the sky.\n",
      "Twinkle Twinkle Little Star,\n",
      "\t How i wonder up you are!\n"
     ]
    }
   ],
   "source": [
    "print(\"Twinkle Twinkle Little Star,\")\n",
    "print(\"\\t How I wonder up you are!\")\n",
    "print(\"\\t\\t Up above the world so high,\")\n",
    "print(\"\\t\\t Lika a diamond in the sky.\")\n",
    "print(\"Twinkle Twinkle Little Star,\")\n",
    "print(\"\\t How i wonder up you are!\")"
   ]
  },
  {
   "cell_type": "code",
   "execution_count": 2,
   "metadata": {},
   "outputs": [
    {
     "data": {
      "text/plain": [
       "'3.7.4 (default, Aug  9 2019, 18:34:13) [MSC v.1915 64 bit (AMD64)]'"
      ]
     },
     "execution_count": 2,
     "metadata": {},
     "output_type": "execute_result"
    }
   ],
   "source": [
    "import sys\n",
    "sys.version"
   ]
  },
  {
   "cell_type": "code",
   "execution_count": 3,
   "metadata": {},
   "outputs": [
    {
     "data": {
      "text/plain": [
       "datetime.time(18, 42, 7, 710832)"
      ]
     },
     "execution_count": 3,
     "metadata": {},
     "output_type": "execute_result"
    }
   ],
   "source": [
    "import datetime as d\n",
    "a = d.datetime.now()\n",
    "a.time()"
   ]
  },
  {
   "cell_type": "code",
   "execution_count": 4,
   "metadata": {},
   "outputs": [
    {
     "name": "stdout",
     "output_type": "stream",
     "text": [
      "Enter a radius6\n",
      "113.112\n"
     ]
    }
   ],
   "source": [
    "pi = 3.142\n",
    "radius = int(input(\"Enter a radius\"))\n",
    "area = pi * radius*radius\n",
    "print(area)"
   ]
  },
  {
   "cell_type": "code",
   "execution_count": 5,
   "metadata": {},
   "outputs": [
    {
     "name": "stdout",
     "output_type": "stream",
     "text": [
      "Enter Your First NameAniq\n",
      "Enter your last NameNasir\n",
      "qinA risaN\n"
     ]
    }
   ],
   "source": [
    "name = input(\"Enter Your First Name\")\n",
    "f_name = input(\"Enter your last Name\")\n",
    "a = name[: : -1]\n",
    "b = f_name[: : -1]\n",
    "full_name = a + \" \" + b\n",
    "print(full_name)"
   ]
  },
  {
   "cell_type": "code",
   "execution_count": 7,
   "metadata": {},
   "outputs": [
    {
     "name": "stdout",
     "output_type": "stream",
     "text": [
      "Enter any Number6\n",
      "Enter another Number9\n",
      "15\n"
     ]
    }
   ],
   "source": [
    "num1 = int(input(\"Enter any Number\"))\n",
    "num2 = int(input(\"Enter another Number\"))\n",
    "result = num1 + num2\n",
    "print(result)"
   ]
  },
  {
   "cell_type": "code",
   "execution_count": null,
   "metadata": {},
   "outputs": [],
   "source": []
  }
 ],
 "metadata": {
  "kernelspec": {
   "display_name": "Python 3",
   "language": "python",
   "name": "python3"
  },
  "language_info": {
   "codemirror_mode": {
    "name": "ipython",
    "version": 3
   },
   "file_extension": ".py",
   "mimetype": "text/x-python",
   "name": "python",
   "nbconvert_exporter": "python",
   "pygments_lexer": "ipython3",
   "version": "3.7.4"
  }
 },
 "nbformat": 4,
 "nbformat_minor": 2
}
