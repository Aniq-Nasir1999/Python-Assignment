{
 "cells": [
  {
   "cell_type": "code",
   "execution_count": 13,
   "metadata": {
    "scrolled": true
   },
   "outputs": [
    {
     "ename": "IndentationError",
     "evalue": "unexpected indent (<ipython-input-13-a9d468c4e44f>, line 12)",
     "output_type": "error",
     "traceback": [
      "\u001b[1;36m  File \u001b[1;32m\"<ipython-input-13-a9d468c4e44f>\"\u001b[1;36m, line \u001b[1;32m12\u001b[0m\n\u001b[1;33m    elif (Percentage<80 && >=70):\u001b[0m\n\u001b[1;37m    ^\u001b[0m\n\u001b[1;31mIndentationError\u001b[0m\u001b[1;31m:\u001b[0m unexpected indent\n"
     ]
    }
   ],
   "source": []
  },
  {
   "cell_type": "code",
   "execution_count": 19,
   "metadata": {},
   "outputs": [
    {
     "name": "stdout",
     "output_type": "stream",
     "text": [
      "Enter Your English Marks67\n",
      "Enter Your Urdu Marks65\n",
      "Enter Your Pak Studies69\n",
      "Enter Your Chemistry Marks80\n",
      "Enter Your Computer Science Marks70\n",
      "82.58823529411765\n",
      "Grade: A+\n"
     ]
    }
   ],
   "source": [
    "English_Marks = int(input(\"Enter Your English Marks\"))\n",
    "Sindhi_Marks = int(input(\"Enter Your Urdu Marks\"))\n",
    "Pak_Studies_Marks = int(input(\"Enter Your Pak Studies\"))\n",
    "Chemistry_Marks = int(input(\"Enter Your Chemistry Marks\"))\n",
    "Computer_Science_Marks = int(input(\"Enter Your Computer Science Marks\"))\n",
    "Obtained_Marks = English_Marks+Sindhi_Marks+Pak_Studies_Marks+Chemistry_Marks+Computer_Science_Marks\n",
    "Total_Marks = 425\n",
    "Percentage = (Obtained_Marks/Total_Marks)*100\n",
    "print(Percentage)\n",
    "if(Percentage>=80):\n",
    "    print(\"Grade: A+\")\n",
    "elif(Percentage>=70 and Percentage<80):\n",
    "    print(\"Grade: A\")\n",
    "elif(Percentage>=60 and Percentage<70):\n",
    "    print(\"Grade: B\")\n",
    "elif(Percentage>=50 and Percentage<60):\n",
    "    print(\"Grade: C\")\n",
    "elif(Percentage>=40 and Percentage<50):\n",
    "    print(\"Grade: D\")\n",
    "else:\n",
    "    print(\"Grade: F\")\n"
   ]
  },
  {
   "cell_type": "code",
   "execution_count": 21,
   "metadata": {},
   "outputs": [
    {
     "name": "stdout",
     "output_type": "stream",
     "text": [
      "Enter a number: 5\n",
      "5 is Odd\n"
     ]
    }
   ],
   "source": [
    "num = int(input(\"Enter a number: \"))\n",
    "if (num % 2) == 0:\n",
    "   print(\"{0} is Even\".format(num))\n",
    "else:\n",
    "   print(\"{0} is Odd\".format(num))"
   ]
  },
  {
   "cell_type": "code",
   "execution_count": 24,
   "metadata": {},
   "outputs": [
    {
     "name": "stdout",
     "output_type": "stream",
     "text": [
      "Number of items in the list =  8\n"
     ]
    }
   ],
   "source": [
    "len_list = [1, 5, 9, 'x','y','z', 20, 25]\n",
    " \n",
    "print (\"Number of items in the list = \", len(len_list))"
   ]
  },
  {
   "cell_type": "code",
   "execution_count": 8,
   "metadata": {},
   "outputs": [
    {
     "name": "stdout",
     "output_type": "stream",
     "text": [
      "Total numbers in List: 5\n",
      "Enter number 8\n",
      "Enter number 8\n",
      "Enter number 4\n",
      "Enter number 6\n",
      "Enter number 3\n",
      "Sum of elements in given list is : 29\n"
     ]
    }
   ],
   "source": [
    "lst = []\n",
    "total = int(input('Total numbers in List: '))\n",
    "\n",
    "for num in range(total):\n",
    "    num = int(input('Enter number '))\n",
    "    lst.append(num)\n",
    "\n",
    "print(\"Sum of elements in given list is :\", sum(lst))"
   ]
  },
  {
   "cell_type": "markdown",
   "metadata": {},
   "source": [
    "### "
   ]
  },
  {
   "cell_type": "code",
   "execution_count": 9,
   "metadata": {},
   "outputs": [
    {
     "name": "stdout",
     "output_type": "stream",
     "text": [
      "How many numbers: 7\n",
      "Enter number 8\n",
      "Enter number 3\n",
      "Enter number 4\n",
      "Enter number 5\n",
      "Enter number 2\n",
      "Enter number 4\n",
      "Enter number 3\n",
      "Maximum element in the list is : 8 \n",
      "Minimum element in the list is : 2\n"
     ]
    }
   ],
   "source": [
    "lst = []\n",
    "num = int(input('How many numbers: '))\n",
    "for n in range(num):\n",
    "    numbers = int(input('Enter number '))\n",
    "    lst.append(numbers)\n",
    "print(\"Maximum element in the list is :\", max(lst), \"\\nMinimum element in the list is :\", min(lst))"
   ]
  },
  {
   "cell_type": "code",
   "execution_count": 18,
   "metadata": {},
   "outputs": [
    {
     "name": "stdout",
     "output_type": "stream",
     "text": [
      "1\n",
      "1\n",
      "2\n",
      "3\n"
     ]
    }
   ],
   "source": [
    "a = [1, 1, 2, 3, 5, 8, 13, 21, 34, 55, 89]\n",
    "for item in a:\n",
    "    if item < 5:\n",
    "        print(item)"
   ]
  },
  {
   "cell_type": "code",
   "execution_count": null,
   "metadata": {},
   "outputs": [],
   "source": []
  }
 ],
 "metadata": {
  "kernelspec": {
   "display_name": "Python 3",
   "language": "python",
   "name": "python3"
  },
  "language_info": {
   "codemirror_mode": {
    "name": "ipython",
    "version": 3
   },
   "file_extension": ".py",
   "mimetype": "text/x-python",
   "name": "python",
   "nbconvert_exporter": "python",
   "pygments_lexer": "ipython3",
   "version": "3.7.4"
  }
 },
 "nbformat": 4,
 "nbformat_minor": 2
}
