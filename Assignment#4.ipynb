{
 "cells": [
  {
   "cell_type": "code",
   "execution_count": 6,
   "metadata": {},
   "outputs": [
    {
     "name": "stdout",
     "output_type": "stream",
     "text": [
      "{'first_name': 'Aniq', 'Second_name': 'Abdul Nasir', 'Age': 20, 'city': 'Karachi', 'Qualification': 'Intermediate'}\n"
     ]
    }
   ],
   "source": [
    "person = {\n",
    "    \"first_name\" : \"Aniq\",\n",
    "    \"Second_name\" : \"Abdul Nasir\",\n",
    "    \"Age\" : 20,\n",
    "    \"city\" : \"Karachi\",\n",
    "    \"Qualification\" : \"Intermediate\"\n",
    "}\n",
    "print(person)"
   ]
  },
  {
   "cell_type": "code",
   "execution_count": 7,
   "metadata": {},
   "outputs": [
    {
     "name": "stdout",
     "output_type": "stream",
     "text": [
      "{'first_name': 'Aniq', 'Second_name': 'Abdul Nasir', 'Age': 20, 'city': 'Karachi', 'Qualification': 'BsCs'}\n"
     ]
    }
   ],
   "source": [
    "person[\"Qualification\"] = \"BsCs\"\n",
    "print(person)"
   ]
  },
  {
   "cell_type": "code",
   "execution_count": 8,
   "metadata": {},
   "outputs": [
    {
     "name": "stdout",
     "output_type": "stream",
     "text": [
      "{'first_name': 'Aniq', 'Second_name': 'Abdul Nasir', 'Age': 20, 'city': 'Karachi'}\n"
     ]
    }
   ],
   "source": [
    "del person[\"Qualification\"]\n",
    "print(person)"
   ]
  },
  {
   "cell_type": "code",
   "execution_count": 14,
   "metadata": {},
   "outputs": [
    {
     "name": "stdout",
     "output_type": "stream",
     "text": [
      "{'Karachi': ['City Of Light', 'Population of Karachi is:', 15400000], 'Islamabad': ['Capital of Pakistan', 'Population of Karachi is:', 1014825], 'Lahore': ['City of Gardens', 'Population of Lahore is :', 11738000]}\n"
     ]
    }
   ],
   "source": [
    "Cities = {\n",
    "    \"Karachi\" : [\"City Of Light\", \"Population of Karachi is:\",15400000,],\n",
    "    \"Islamabad\": [\"Capital of Pakistan\",\"Population of Karachi is:\",1014825],\n",
    "    \"Lahore\":[\"City of Gardens\",\"Population of Lahore is :\",11738000]\n",
    "}\n",
    "print(Cities)"
   ]
  },
  {
   "cell_type": "code",
   "execution_count": 30,
   "metadata": {},
   "outputs": [
    {
     "name": "stdout",
     "output_type": "stream",
     "text": [
      "Enter Your Age\n",
      "20\n",
      "Your Ticket Charges is: $15\n"
     ]
    }
   ],
   "source": [
    "\n",
    "age = input(\"Enter Your Age\\n\")\n",
    "age = int(age)\n",
    "if  age <= 3:\n",
    "    print(\"Your Ticket is Free\")\n",
    "elif age <= 12 :\n",
    "    print(\"You must pay $10\")\n",
    "else:\n",
    "    print(\"Your Ticket Charges is: $15\")\n",
    "\n",
    "        "
   ]
  },
  {
   "cell_type": "code",
   "execution_count": 31,
   "metadata": {},
   "outputs": [
    {
     "name": "stdout",
     "output_type": "stream",
     "text": [
      "One of my favorite books is Alice in Wonderland\n"
     ]
    }
   ],
   "source": [
    "def favorite_book(title):\n",
    "    print(title)\n",
    "favorite_book(\"One of my favorite books is Alice in Wonderland\")"
   ]
  },
  {
   "cell_type": "code",
   "execution_count": 35,
   "metadata": {},
   "outputs": [
    {
     "name": "stdout",
     "output_type": "stream",
     "text": [
      "\n",
      "I have a number between 1 and 30. Can you guess my number? Please type your first guess: 3\n"
     ]
    },
    {
     "ename": "NameError",
     "evalue": "name 'random' is not defined",
     "output_type": "error",
     "traceback": [
      "\u001b[1;31m---------------------------------------------------------------------------\u001b[0m",
      "\u001b[1;31mNameError\u001b[0m                                 Traceback (most recent call last)",
      "\u001b[1;32m<ipython-input-35-d7d7d44200cd>\u001b[0m in \u001b[0;36m<module>\u001b[1;34m\u001b[0m\n\u001b[0;32m     24\u001b[0m             \u001b[0mmain\u001b[0m\u001b[1;33m(\u001b[0m\u001b[1;33m)\u001b[0m\u001b[1;33m\u001b[0m\u001b[1;33m\u001b[0m\u001b[0m\n\u001b[0;32m     25\u001b[0m \u001b[1;33m\u001b[0m\u001b[0m\n\u001b[1;32m---> 26\u001b[1;33m \u001b[0mmain\u001b[0m\u001b[1;33m(\u001b[0m\u001b[1;33m)\u001b[0m\u001b[1;33m\u001b[0m\u001b[1;33m\u001b[0m\u001b[0m\n\u001b[0m",
      "\u001b[1;32m<ipython-input-35-d7d7d44200cd>\u001b[0m in \u001b[0;36mmain\u001b[1;34m()\u001b[0m\n\u001b[0;32m      2\u001b[0m     \u001b[0mprint\u001b[0m \u001b[1;33m(\u001b[0m\u001b[1;34m\"\"\u001b[0m\u001b[1;33m)\u001b[0m\u001b[1;33m\u001b[0m\u001b[1;33m\u001b[0m\u001b[0m\n\u001b[0;32m      3\u001b[0m     \u001b[0mnumber\u001b[0m \u001b[1;33m=\u001b[0m \u001b[0minput\u001b[0m\u001b[1;33m(\u001b[0m\u001b[1;34m\"I have a number between 1 and 30. Can you guess my number? Please type your first guess: \"\u001b[0m\u001b[1;33m)\u001b[0m\u001b[1;33m\u001b[0m\u001b[1;33m\u001b[0m\u001b[0m\n\u001b[1;32m----> 4\u001b[1;33m     \u001b[0mguess\u001b[0m\u001b[1;33m(\u001b[0m\u001b[0mnumber\u001b[0m\u001b[1;33m)\u001b[0m\u001b[1;33m\u001b[0m\u001b[1;33m\u001b[0m\u001b[0m\n\u001b[0m\u001b[0;32m      5\u001b[0m \u001b[1;33m\u001b[0m\u001b[0m\n\u001b[0;32m      6\u001b[0m \u001b[1;32mdef\u001b[0m \u001b[0mguess\u001b[0m\u001b[1;33m(\u001b[0m\u001b[0mnumber1\u001b[0m\u001b[1;33m)\u001b[0m\u001b[1;33m:\u001b[0m\u001b[1;33m\u001b[0m\u001b[1;33m\u001b[0m\u001b[0m\n",
      "\u001b[1;32m<ipython-input-35-d7d7d44200cd>\u001b[0m in \u001b[0;36mguess\u001b[1;34m(number1)\u001b[0m\n\u001b[0;32m      6\u001b[0m \u001b[1;32mdef\u001b[0m \u001b[0mguess\u001b[0m\u001b[1;33m(\u001b[0m\u001b[0mnumber1\u001b[0m\u001b[1;33m)\u001b[0m\u001b[1;33m:\u001b[0m\u001b[1;33m\u001b[0m\u001b[1;33m\u001b[0m\u001b[0m\n\u001b[0;32m      7\u001b[0m \u001b[1;33m\u001b[0m\u001b[0m\n\u001b[1;32m----> 8\u001b[1;33m     \u001b[0mrandomNumber\u001b[0m \u001b[1;33m=\u001b[0m \u001b[0mrandom\u001b[0m\u001b[1;33m.\u001b[0m\u001b[0mrandrange\u001b[0m\u001b[1;33m(\u001b[0m\u001b[1;36m1\u001b[0m\u001b[1;33m,\u001b[0m \u001b[1;36m30\u001b[0m\u001b[1;33m)\u001b[0m\u001b[1;33m\u001b[0m\u001b[1;33m\u001b[0m\u001b[0m\n\u001b[0m\u001b[0;32m      9\u001b[0m \u001b[1;33m\u001b[0m\u001b[0m\n\u001b[0;32m     10\u001b[0m     \u001b[0mcorrect\u001b[0m \u001b[1;33m=\u001b[0m \u001b[1;32mFalse\u001b[0m\u001b[1;33m\u001b[0m\u001b[1;33m\u001b[0m\u001b[0m\n",
      "\u001b[1;31mNameError\u001b[0m: name 'random' is not defined"
     ]
    }
   ],
   "source": [
    "def main():\n",
    "    print (\"\")\n",
    "    number = input(\"I have a number between 1 and 30. Can you guess my number? Please type your first guess: \")\n",
    "    guess(number)\n",
    "\n",
    "def guess(number1):\n",
    "    \n",
    "    randomNumber = random.randrange(1, 30)\n",
    "    \n",
    "    correct = False\n",
    "    while not correct:\n",
    "        if number1 > randomNumber:\n",
    "            print (\"Too high. Try again.\")\n",
    "            print (\"\")\n",
    "        elif number1 < randomNumber:\n",
    "            print (\"Too low. Try again.\")\n",
    "            print (\"\")\n",
    "        elif number1 == randomNumber:\n",
    "           break\n",
    "        number1 = input (\"What number do you guess? \")\n",
    "    if number1 == randomNumber:\n",
    "       playAagain = raw_input (\"Excellent! You guessed the number! Would you like to play again (y or n)? \")\n",
    "       if playAagain == \"y\" or \"Y\":\n",
    "            main()\n",
    "\n",
    "main()"
   ]
  },
  {
   "cell_type": "code",
   "execution_count": 40,
   "metadata": {},
   "outputs": [
    {
     "name": "stdout",
     "output_type": "stream",
     "text": [
      "Guess a number between 1 and 30\n",
      "6\n",
      "Try Higher\n",
      "Guess a number between 1 and 30\n",
      "4\n",
      "Try Higher\n",
      "Guess a number between 1 and 30\n",
      "7\n",
      "Try Higher\n",
      "Guess a number between 1 and 30\n",
      "15\n",
      "Try Higher\n",
      "Guess a number between 1 and 30\n",
      "20\n",
      "Try Higher\n",
      "Guess a number between 1 and 30\n",
      "25\n",
      "Try Lower\n",
      "Guess a number between 1 and 30\n",
      "22\n",
      "Try Lower\n",
      "Guess a number between 1 and 30\n",
      "24\n",
      "Try Lower\n",
      "Guess a number between 1 and 30\n",
      "23\n",
      "Try Lower\n",
      "Guess a number between 1 and 30\n",
      "21\n",
      "You won!!!\n",
      "if you gussed less than 6 times you won\n"
     ]
    }
   ],
   "source": [
    "import random\n",
    "num = random.randint(1, 30)\n",
    "while True:\n",
    "    print('Guess a number between 1 and 30')\n",
    "    guess = input()\n",
    "    i = int(guess)\n",
    "    if i == num:\n",
    "        print('You won!!!')\n",
    "        break\n",
    "    elif i < num:\n",
    "               print('Try Higher')\n",
    "    elif i > num:\n",
    "               print('Try Lower')\n",
    "#any recommendations for the game end\n",
    "print('if you gussed less than 6 times you won')"
   ]
  },
  {
   "cell_type": "code",
   "execution_count": null,
   "metadata": {},
   "outputs": [],
   "source": []
  },
  {
   "cell_type": "code",
   "execution_count": null,
   "metadata": {},
   "outputs": [],
   "source": []
  }
 ],
 "metadata": {
  "kernelspec": {
   "display_name": "Python 3",
   "language": "python",
   "name": "python3"
  },
  "language_info": {
   "codemirror_mode": {
    "name": "ipython",
    "version": 3
   },
   "file_extension": ".py",
   "mimetype": "text/x-python",
   "name": "python",
   "nbconvert_exporter": "python",
   "pygments_lexer": "ipython3",
   "version": "3.7.4"
  }
 },
 "nbformat": 4,
 "nbformat_minor": 2
}
